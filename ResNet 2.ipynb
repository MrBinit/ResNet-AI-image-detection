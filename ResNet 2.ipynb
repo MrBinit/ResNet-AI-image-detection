{
  "cells": [
    {
      "cell_type": "code",
      "execution_count": 1,
      "metadata": {
        "colab": {
          "base_uri": "https://localhost:8080/"
        },
        "id": "uRFs6y-HjeRU",
        "outputId": "9e789f46-3a54-4d9a-e9e8-49b16f059645"
      },
      "outputs": [
        {
          "output_type": "stream",
          "name": "stdout",
          "text": [
            "Drive already mounted at /content/drive; to attempt to forcibly remount, call drive.mount(\"/content/drive\", force_remount=True).\n"
          ]
        }
      ],
      "source": [
        "\n",
        "from google.colab import drive\n",
        "drive.mount('/content/drive')"
      ]
    },
    {
      "cell_type": "code",
      "source": [
        "import os\n",
        "import numpy as np\n",
        "import tensorflow as tf\n",
        "from tensorflow.keras.preprocessing.image import load_img, img_to_array\n",
        "from tensorflow.keras.utils import to_categorical\n",
        "from tensorflow.keras.applications.resnet50 import ResNet50, preprocess_input\n",
        "from tensorflow.keras.models import Model\n",
        "from tensorflow.keras.layers import Dense, GlobalAveragePooling2D, Dropout\n",
        "from tensorflow.keras.optimizers import Adam\n",
        "from tensorflow.keras.callbacks import EarlyStopping\n",
        "from sklearn.model_selection import train_test_split\n",
        "\n",
        "# Verify GPU setup\n",
        "print(\"Num GPUs Available: \", len(tf.config.list_physical_devices('GPU')))\n",
        "print(\"TensorFlow version:\", tf.__version__)\n",
        "\n",
        "# Define the base path\n",
        "base_path = \"/content/drive/My Drive/preprocessed\"\n",
        "\n",
        "# Initialize lists to store file paths and labels\n",
        "file_paths = []\n",
        "labels = []\n",
        "\n",
        "# Iterate through 'fake' and 'real' subfolders to collect file paths and labels\n",
        "for label, category in enumerate(['fake', 'real']):\n",
        "    category_path = os.path.join(base_path, category)\n",
        "    for file_name in os.listdir(category_path):\n",
        "        file_path = os.path.join(category_path, file_name)\n",
        "        file_paths.append(file_path)\n",
        "        labels.append(label)  # Assign label 0 for 'fake' and 1 for 'real'\n",
        "\n"
      ],
      "metadata": {
        "colab": {
          "base_uri": "https://localhost:8080/"
        },
        "id": "ox3K5abiUVlH",
        "outputId": "03a1e20c-410c-4302-aa4a-46a4e6da7d2e"
      },
      "execution_count": 2,
      "outputs": [
        {
          "output_type": "stream",
          "name": "stdout",
          "text": [
            "Num GPUs Available:  1\n",
            "TensorFlow version: 2.15.0\n"
          ]
        }
      ]
    },
    {
      "cell_type": "code",
      "source": [
        "# Convert lists to numpy arrays\n",
        "file_paths = np.array(file_paths)\n",
        "labels = np.array(labels)\n",
        "\n",
        "# Convert labels to categorical\n",
        "labels = to_categorical(labels, num_classes=2)\n",
        "\n",
        "# Split the data into training and validation sets\n",
        "train_paths, val_paths, train_labels, val_labels = train_test_split(file_paths, labels, test_size=0.2, random_state=42)\n"
      ],
      "metadata": {
        "id": "TDNkPw1vUXNM"
      },
      "execution_count": 3,
      "outputs": []
    },
    {
      "cell_type": "code",
      "source": [
        "\n",
        "# Function to load and preprocess images\n",
        "def load_and_preprocess_image(file_path, label, target_size=(224, 224)):\n",
        "    image = tf.io.read_file(file_path)\n",
        "    image = tf.image.decode_jpeg(image, channels=3)\n",
        "    image = tf.image.resize(image, target_size)\n",
        "    image = preprocess_input(image)  # Preprocess the image for ResNet\n",
        "    return image, label\n",
        "\n",
        "# Data Augmentation layers\n",
        "data_augmentation = tf.keras.Sequential([\n",
        "    tf.keras.layers.RandomRotation(factor=0.15),\n",
        "    tf.keras.layers.RandomTranslation(height_factor=0.1, width_factor=0.1),\n",
        "    tf.keras.layers.RandomFlip('horizontal'),\n",
        "    tf.keras.layers.RandomContrast(factor=0.1)\n",
        "])\n",
        "\n"
      ],
      "metadata": {
        "id": "VuiAuB28VH5L"
      },
      "execution_count": 4,
      "outputs": []
    },
    {
      "cell_type": "code",
      "source": [
        "# Create training dataset\n",
        "train_dataset = tf.data.Dataset.from_tensor_slices((train_paths, train_labels))\n",
        "train_dataset = train_dataset.map(load_and_preprocess_image, num_parallel_calls=tf.data.experimental.AUTOTUNE)\n",
        "train_dataset = train_dataset.map(lambda x, y: (data_augmentation(x, training=True), y), num_parallel_calls=tf.data.experimental.AUTOTUNE)\n",
        "train_dataset = train_dataset.batch(32).prefetch(buffer_size=tf.data.experimental.AUTOTUNE)\n",
        "\n",
        "# Create validation dataset\n",
        "val_dataset = tf.data.Dataset.from_tensor_slices((val_paths, val_labels))\n",
        "val_dataset = val_dataset.map(load_and_preprocess_image, num_parallel_calls=tf.data.experimental.AUTOTUNE)\n",
        "val_dataset = val_dataset.batch(32).prefetch(buffer_size=tf.data.experimental.AUTOTUNE)\n",
        "\n"
      ],
      "metadata": {
        "id": "K81S3XYsVKk_"
      },
      "execution_count": 5,
      "outputs": []
    },
    {
      "cell_type": "code",
      "source": [
        "# Load the ResNet50 model pre-trained on ImageNet and exclude the top layers\n",
        "base_model = ResNet50(weights='imagenet', include_top=False, input_shape=(224, 224, 3))\n",
        "\n",
        "# Add custom top layers with dropout and regularization\n",
        "x = base_model.output\n",
        "x = GlobalAveragePooling2D()(x)\n",
        "x = Dense(1024, activation='relu', kernel_regularizer=tf.keras.regularizers.l2(0.01))(x)\n",
        "x = Dropout(0.5)(x)  # Add dropout layer\n",
        "predictions = Dense(2, activation='softmax')(x)\n",
        "\n",
        "# Define the model\n",
        "model = Model(inputs=base_model.input, outputs=predictions)\n",
        "\n"
      ],
      "metadata": {
        "id": "JPSHvi--VMSY"
      },
      "execution_count": 6,
      "outputs": []
    },
    {
      "cell_type": "code",
      "source": [
        "\n",
        "# Freeze the layers of the base model\n",
        "for layer in base_model.layers:\n",
        "    layer.trainable = False\n",
        "\n",
        "# Compile the model with the correct parameter for learning rate\n",
        "model.compile(optimizer=Adam(learning_rate=0.001), loss='categorical_crossentropy', metrics=['accuracy'])\n",
        "\n",
        "# Early stopping callback\n",
        "early_stopping = EarlyStopping(monitor='val_loss', patience=5, restore_best_weights=True)\n",
        "\n",
        "# Train the model with data augmentation\n",
        "history = model.fit(train_dataset, validation_data=val_dataset, epochs=5, callbacks=[early_stopping])\n",
        "\n"
      ],
      "metadata": {
        "colab": {
          "base_uri": "https://localhost:8080/"
        },
        "id": "rErswLohVOcj",
        "outputId": "701322ea-bc23-45fd-ef43-219bc463046d"
      },
      "execution_count": 8,
      "outputs": [
        {
          "output_type": "stream",
          "name": "stdout",
          "text": [
            "Epoch 1/5\n",
            "188/188 [==============================] - 74s 337ms/step - loss: 4.3781 - accuracy: 0.7341 - val_loss: 1.2583 - val_accuracy: 0.8610\n",
            "Epoch 2/5\n",
            "188/188 [==============================] - 61s 323ms/step - loss: 1.0106 - accuracy: 0.7861 - val_loss: 0.6823 - val_accuracy: 0.8524\n",
            "Epoch 3/5\n",
            "188/188 [==============================] - 61s 325ms/step - loss: 0.6912 - accuracy: 0.7976 - val_loss: 0.5381 - val_accuracy: 0.8584\n",
            "Epoch 4/5\n",
            "188/188 [==============================] - 60s 320ms/step - loss: 0.6277 - accuracy: 0.7944 - val_loss: 0.5613 - val_accuracy: 0.8438\n",
            "Epoch 5/5\n",
            "188/188 [==============================] - 61s 324ms/step - loss: 0.5970 - accuracy: 0.7900 - val_loss: 0.4840 - val_accuracy: 0.8544\n"
          ]
        }
      ]
    },
    {
      "cell_type": "code",
      "source": [
        "# Unfreeze some layers of the base model for fine-tuning\n",
        "for layer in base_model.layers[-4:]:\n",
        "    layer.trainable = True\n",
        "\n",
        "# Recompile the model with the correct parameter for learning rate\n",
        "model.compile(optimizer=Adam(learning_rate=0.0001), loss='categorical_crossentropy', metrics=['accuracy'])\n",
        "\n",
        "# Continue training the model with reduced batch size to avoid memory issues\n",
        "history_fine = model.fit(train_dataset, validation_data=val_dataset, epochs=10, callbacks=[early_stopping])\n",
        "\n",
        "# Save the trained model\n",
        "# model.save('resnet_model.h5')"
      ],
      "metadata": {
        "colab": {
          "base_uri": "https://localhost:8080/"
        },
        "id": "9-9QG45aWMeu",
        "outputId": "31c95d6b-4899-4215-8385-fa65d6784d79"
      },
      "execution_count": 9,
      "outputs": [
        {
          "output_type": "stream",
          "name": "stdout",
          "text": [
            "Epoch 1/10\n",
            "188/188 [==============================] - 66s 326ms/step - loss: 0.4836 - accuracy: 0.8352 - val_loss: 0.3827 - val_accuracy: 0.8850\n",
            "Epoch 2/10\n",
            "188/188 [==============================] - 61s 325ms/step - loss: 0.4286 - accuracy: 0.8563 - val_loss: 0.3823 - val_accuracy: 0.8803\n",
            "Epoch 3/10\n",
            "188/188 [==============================] - 61s 326ms/step - loss: 0.4115 - accuracy: 0.8623 - val_loss: 0.3621 - val_accuracy: 0.8836\n",
            "Epoch 4/10\n",
            "188/188 [==============================] - 62s 328ms/step - loss: 0.3794 - accuracy: 0.8713 - val_loss: 0.4072 - val_accuracy: 0.8644\n",
            "Epoch 5/10\n",
            "188/188 [==============================] - 61s 322ms/step - loss: 0.3590 - accuracy: 0.8823 - val_loss: 0.3907 - val_accuracy: 0.8710\n",
            "Epoch 6/10\n",
            "188/188 [==============================] - 61s 324ms/step - loss: 0.3479 - accuracy: 0.8852 - val_loss: 0.3730 - val_accuracy: 0.8783\n",
            "Epoch 7/10\n",
            "188/188 [==============================] - 61s 324ms/step - loss: 0.3247 - accuracy: 0.8929 - val_loss: 0.3725 - val_accuracy: 0.8816\n",
            "Epoch 8/10\n",
            "188/188 [==============================] - 62s 326ms/step - loss: 0.3118 - accuracy: 0.8984 - val_loss: 0.3600 - val_accuracy: 0.8896\n",
            "Epoch 9/10\n",
            "188/188 [==============================] - 61s 322ms/step - loss: 0.3005 - accuracy: 0.9047 - val_loss: 0.3763 - val_accuracy: 0.8816\n",
            "Epoch 10/10\n",
            "188/188 [==============================] - 61s 325ms/step - loss: 0.2844 - accuracy: 0.9134 - val_loss: 0.3884 - val_accuracy: 0.8816\n"
          ]
        }
      ]
    },
    {
      "cell_type": "code",
      "source": [
        "saved_model_path = '/content/drive/My Drive/saved_model'\n",
        "\n",
        "# Save the model to the specified path\n",
        "\n",
        "model.save(saved_model_path)"
      ],
      "metadata": {
        "id": "tpSxdBiFZjQD"
      },
      "execution_count": 10,
      "outputs": []
    },
    {
      "cell_type": "code",
      "source": [
        "import tensorflow as tf\n",
        "from tensorflow.keras.preprocessing.image import load_img, img_to_array\n",
        "import numpy as np\n",
        "\n",
        "# Define the image path\n",
        "image_path = \"/content/drive/My Drive/dog.png\"\n",
        "\n",
        "# Load and preprocess the image\n",
        "def load_and_preprocess_image(image_path, target_size=(224, 224)):\n",
        "    image = load_img(image_path, target_size=target_size)\n",
        "    image = img_to_array(image)\n",
        "    image = np.expand_dims(image, axis=0)\n",
        "    image = preprocess_input(image)\n",
        "    return image\n",
        "\n",
        "# Assuming the model is trained for binary classification (AI-generated vs. real)\n",
        "model = tf.keras.models.load_model('/content/drive/My Drive/saved_model')\n",
        "\n",
        "# Preprocess the input image\n",
        "image = load_and_preprocess_image(image_path)\n",
        "\n",
        "# Make a prediction\n",
        "prediction = model.predict(image)\n",
        "\n",
        "# Assuming the output is a probability for AI-generated\n",
        "is_ai_generated = prediction[0][0] > 0.5\n",
        "\n",
        "if is_ai_generated:\n",
        "    print(\"The image is AI-generated.\")\n",
        "else:\n",
        "    print(\"The image is not AI-generated.\")\n"
      ],
      "metadata": {
        "colab": {
          "base_uri": "https://localhost:8080/"
        },
        "id": "xZoEeJyQZ7v3",
        "outputId": "d2fd65c0-872f-4f07-caa1-3a312f2a9034"
      },
      "execution_count": 11,
      "outputs": [
        {
          "output_type": "stream",
          "name": "stdout",
          "text": [
            "1/1 [==============================] - 2s 2s/step\n",
            "The image is AI-generated.\n"
          ]
        }
      ]
    },
    {
      "cell_type": "code",
      "source": [
        "import tensorflow as tf\n",
        "from tensorflow.keras.preprocessing.image import load_img, img_to_array\n",
        "import numpy as np\n",
        "\n",
        "# Define the image path\n",
        "image_path = \"/content/drive/My Drive/person.jpeg\"\n",
        "\n",
        "# Load and preprocess the image\n",
        "def load_and_preprocess_image(image_path, target_size=(224, 224)):\n",
        "    image = load_img(image_path, target_size=target_size)\n",
        "    image = img_to_array(image)\n",
        "    image = np.expand_dims(image, axis=0)\n",
        "    image = preprocess_input(image)\n",
        "    return image\n",
        "\n",
        "# Assuming the model is trained for binary classification (AI-generated vs. real)\n",
        "model = tf.keras.models.load_model('/content/drive/My Drive/saved_model')\n",
        "\n",
        "# Preprocess the input image\n",
        "image = load_and_preprocess_image(image_path)\n",
        "\n",
        "# Make a prediction\n",
        "prediction = model.predict(image)\n",
        "\n",
        "# Assuming the output is a probability for AI-generated\n",
        "is_ai_generated = prediction[0][0] > 0.5\n",
        "\n",
        "if is_ai_generated:\n",
        "    print(\"The image is AI-generated.\")\n",
        "else:\n",
        "    print(\"The image is not AI-generated.\")\n"
      ],
      "metadata": {
        "colab": {
          "base_uri": "https://localhost:8080/"
        },
        "id": "XLKRJCIEc1ZC",
        "outputId": "798fec1f-9a73-4fe7-cff2-c44de4984c6d"
      },
      "execution_count": 12,
      "outputs": [
        {
          "output_type": "stream",
          "name": "stdout",
          "text": [
            "1/1 [==============================] - 1s 976ms/step\n",
            "The image is AI-generated.\n"
          ]
        }
      ]
    },
    {
      "cell_type": "code",
      "source": [
        "import tensorflow as tf\n",
        "from tensorflow.keras.preprocessing.image import load_img, img_to_array\n",
        "import numpy as np\n",
        "\n",
        "# Define the image path\n",
        "image_path = \"/content/drive/My Drive/srk.jpeg\"\n",
        "\n",
        "# Load and preprocess the image\n",
        "def load_and_preprocess_image(image_path, target_size=(224, 224)):\n",
        "    image = load_img(image_path, target_size=target_size)\n",
        "    image = img_to_array(image)\n",
        "    image = np.expand_dims(image, axis=0)\n",
        "    image = preprocess_input(image)\n",
        "    return image\n",
        "\n",
        "# Assuming the model is trained for binary classification (AI-generated vs. real)\n",
        "model = tf.keras.models.load_model('/content/drive/My Drive/saved_model')\n",
        "\n",
        "# Preprocess the input image\n",
        "image = load_and_preprocess_image(image_path)\n",
        "\n",
        "# Make a prediction\n",
        "prediction = model.predict(image)\n",
        "\n",
        "# Assuming the output is a probability for AI-generated\n",
        "is_ai_generated = prediction[0][0] > 0.5\n",
        "\n",
        "if is_ai_generated:\n",
        "    print(\"The image is AI-generated.\")\n",
        "else:\n",
        "    print(\"The image is not AI-generated.\")\n"
      ],
      "metadata": {
        "colab": {
          "base_uri": "https://localhost:8080/"
        },
        "id": "FOlMBtJ7dAo2",
        "outputId": "b93fc4be-91e0-4bc4-be82-32fcecd55d19"
      },
      "execution_count": 13,
      "outputs": [
        {
          "output_type": "stream",
          "name": "stdout",
          "text": [
            "1/1 [==============================] - 1s 937ms/step\n",
            "The image is not AI-generated.\n"
          ]
        }
      ]
    },
    {
      "cell_type": "code",
      "source": [
        "import tensorflow as tf\n",
        "from tensorflow.keras.preprocessing.image import load_img, img_to_array\n",
        "import numpy as np\n",
        "\n",
        "# Define the image path\n",
        "image_path = \"/content/drive/My Drive/suhelsir.jpeg\"\n",
        "\n",
        "# Load and preprocess the image\n",
        "def load_and_preprocess_image(image_path, target_size=(224, 224)):\n",
        "    image = load_img(image_path, target_size=target_size)\n",
        "    image = img_to_array(image)\n",
        "    image = np.expand_dims(image, axis=0)\n",
        "    image = preprocess_input(image)\n",
        "    return image\n",
        "\n",
        "# Assuming the model is trained for binary classification (AI-generated vs. real)\n",
        "model = tf.keras.models.load_model('/content/drive/My Drive/saved_model')\n",
        "\n",
        "# Preprocess the input image\n",
        "image = load_and_preprocess_image(image_path)\n",
        "\n",
        "# Make a prediction\n",
        "prediction = model.predict(image)\n",
        "\n",
        "# Assuming the output is a probability for AI-generated\n",
        "is_ai_generated = prediction[0][0] > 0.5\n",
        "\n",
        "if is_ai_generated:\n",
        "    print(\"The image is AI-generated.\")\n",
        "else:\n",
        "    print(\"The image is not AI-generated.\")\n"
      ],
      "metadata": {
        "colab": {
          "base_uri": "https://localhost:8080/"
        },
        "id": "_SQOnr8ndHc8",
        "outputId": "12c9644e-1359-4a7c-c2e4-2465b3b966a1"
      },
      "execution_count": 14,
      "outputs": [
        {
          "output_type": "stream",
          "name": "stdout",
          "text": [
            "1/1 [==============================] - 1s 950ms/step\n",
            "The image is not AI-generated.\n"
          ]
        }
      ]
    },
    {
      "cell_type": "code",
      "source": [],
      "metadata": {
        "id": "7oD1LY59hmhT"
      },
      "execution_count": null,
      "outputs": []
    },
    {
      "cell_type": "markdown",
      "source": [],
      "metadata": {
        "id": "vdVi5puShmuq"
      }
    },
    {
      "cell_type": "code",
      "source": [
        "# Save the trained model\n",
        "model.save('/content/drive/My Drive/resnet_model.keras')"
      ],
      "metadata": {
        "id": "i6oI-tJBdYzo"
      },
      "execution_count": 17,
      "outputs": []
    },
    {
      "cell_type": "code",
      "source": [
        "# Save the trained model\n",
        "model_save_path = '/content/drive/My Drive/resnet_model.keras'\n",
        "model.save(model_save_path)\n",
        "\n",
        "print(f'Model saved to {model_save_path}')\n",
        "\n"
      ],
      "metadata": {
        "colab": {
          "base_uri": "https://localhost:8080/"
        },
        "id": "QkOg_DQGeqgB",
        "outputId": "c60f5d4f-58dd-4af4-efa2-6686067b477b"
      },
      "execution_count": 19,
      "outputs": [
        {
          "output_type": "stream",
          "name": "stdout",
          "text": [
            "Model saved to /content/drive/My Drive/resnet_model.keras\n"
          ]
        }
      ]
    },
    {
      "cell_type": "code",
      "source": [],
      "metadata": {
        "id": "hIXUxPMaiOS0"
      },
      "execution_count": null,
      "outputs": []
    }
  ],
  "metadata": {
    "accelerator": "GPU",
    "colab": {
      "gpuType": "T4",
      "machine_shape": "hm",
      "provenance": []
    },
    "kernelspec": {
      "display_name": "Python 3",
      "name": "python3"
    },
    "language_info": {
      "name": "python"
    }
  },
  "nbformat": 4,
  "nbformat_minor": 0
}